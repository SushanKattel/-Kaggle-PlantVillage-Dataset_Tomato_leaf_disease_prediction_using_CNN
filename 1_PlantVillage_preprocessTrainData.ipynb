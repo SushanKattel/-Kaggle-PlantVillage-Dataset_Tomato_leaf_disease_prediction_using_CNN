{
  "cells": [
    {
      "cell_type": "code",
      "execution_count": null,
      "metadata": {
        "colab": {
          "base_uri": "https://localhost:8080/"
        },
        "id": "Kwl0XKJOvA0Y",
        "outputId": "29d59cca-6091-4b1f-f4b2-776db13255d9"
      },
      "outputs": [
        {
          "name": "stdout",
          "output_type": "stream",
          "text": [
            "/content/drive/MyDrive/PlantVillage\n"
          ]
        }
      ],
      "source": [
        "cd /content/drive/MyDrive/PlantVillage"
      ]
    },
    {
      "cell_type": "code",
      "execution_count": null,
      "metadata": {
        "id": "6xCKpJgIvd14"
      },
      "outputs": [],
      "source": [
        "# Importing required libraries. \n",
        "import numpy as np                # For linear alzebra. \n",
        "import cv2                        # For interacting (loading and resizing) images.     \n",
        "import os                         # For using opereting system modules, like changing directories.\n",
        "from tqdm import tqdm             # tqdm is for showing animation progress bar while processing."
      ]
    },
    {
      "cell_type": "code",
      "execution_count": null,
      "metadata": {
        "id": "YGZwDxV16LOQ"
      },
      "outputs": [],
      "source": [
        "'''\n",
        "Creating a list of all available filenames (imagenames) inside folder of respective class\n",
        "like: A folder aaa has 5 images inside it, with names: a.jpg, b.jpg, c.jpg, d.jpg and e.jpg.\n",
        "This will create a list as: abc = [a.jpg, b.jpg, c.jpg, d.jpg, e.jpg]\n",
        "\n",
        "listdir will gve the list of all the dirctories present in the path. It's Like using 'ls' command in command shell.\n",
        "'''\n",
        "\n",
        "Bacterial_spot = os.listdir('/content/drive/MyDrive/PlantVillage/plantvillage/Tomato___Bacterial_spot') \n",
        "Early_blight = os.listdir('/content/drive/MyDrive/PlantVillage/plantvillage/Tomato___Early_blight')\n",
        "Late_blight = os.listdir('/content/drive/MyDrive/PlantVillage/plantvillage/Tomato___Late_blight')\n",
        "Leaf_mold = os.listdir('/content/drive/MyDrive/PlantVillage/plantvillage/Tomato___Leaf_Mold')\n",
        "Septoria_leaf_spot = os.listdir('/content/drive/MyDrive/PlantVillage/plantvillage/Tomato___Septoria_leaf_spot')\n",
        "Spider_mites = os.listdir('/content/drive/MyDrive/PlantVillage/plantvillage/Tomato___Spider_mites Two-spotted_spider_mite')\n",
        "Target_spot = os.listdir('/content/drive/MyDrive/PlantVillage/plantvillage/Tomato___Target_Spot')\n",
        "Yellow_leaf_curl_virus = os.listdir('/content/drive/MyDrive/PlantVillage/plantvillage/Tomato___Tomato_Yellow_Leaf_Curl_Virus')\n",
        "Mosaic_virus = os.listdir('/content/drive/MyDrive/PlantVillage/plantvillage/Tomato___Tomato_mosaic_virus')\n",
        "healthy = os.listdir('/content/drive/MyDrive/PlantVillage/plantvillage/Tomato___healthy')"
      ]
    },
    {
      "cell_type": "code",
      "execution_count": null,
      "metadata": {
        "colab": {
          "base_uri": "https://localhost:8080/"
        },
        "id": "YrAhwUshxxTs",
        "outputId": "fbe144d3-e2d1-4ead-9bfc-ba253dd96fa5"
      },
      "outputs": [
        {
          "name": "stderr",
          "output_type": "stream",
          "text": [
            "100%|██████████| 1700/1700 [08:35<00:00,  3.30it/s]\n",
            "100%|██████████| 800/800 [03:58<00:00,  3.35it/s]\n",
            "100%|██████████| 1527/1527 [07:49<00:00,  3.25it/s]\n",
            "100%|██████████| 761/761 [03:45<00:00,  3.37it/s]\n",
            "100%|██████████| 1417/1417 [07:14<00:00,  3.26it/s]\n",
            "100%|██████████| 1341/1341 [06:47<00:00,  3.29it/s]\n",
            "100%|██████████| 1123/1123 [05:58<00:00,  3.14it/s]\n",
            "100%|██████████| 4286/4286 [21:26<00:00,  3.33it/s]\n",
            "100%|██████████| 299/299 [01:32<00:00,  3.23it/s]\n",
            "100%|██████████| 1273/1273 [06:26<00:00,  3.30it/s]\n"
          ]
        }
      ],
      "source": [
        "h = 128         # Defining a integer variable for height of image after resizing.\n",
        "w = 128         # Defining a integer variable for width of image after resizing.\n",
        "data = []       # Defing empty array to store values of data: After transforming and normalizing images to numpy array.\n",
        "labels = []     # Defining empty aray to store corresponding labels of datas.\n",
        "\n",
        "'''\n",
        "The for loop below iterate through all the list values, from a.jpg to e.jpg as on above example which is defined for every list created on above cell.\n",
        "If condition to check type is used because, sometimes, the folder may contain files other then specified. For example:\n",
        "Here we are checking for all jpg images but if there is any file with png or pdf (due to misplace,ent or other issues),\n",
        "there comes error so, we simply skip them.\n",
        "For every images, we convert them to greyscale, resize them to a fixed size, create an numpy array list and normalize the pixel values.\n",
        "The pixel values are ranging from 0 to 255. So, we divide it by 255 s that all values will be between 0 and 1, and apend them to the empty list we have for data\n",
        "Then we append the image class: same label for same class, ranging from 0 to 9 for 10 different classes here we are using.\n",
        "\n",
        "After completing this for all class, we then change the data and labels to numpy array, of type float32 for datas and int32 for labels.\n",
        "Then rename class as X_train and labels as y_train for easy understanding below, on training phase.\n",
        "'''\n",
        "\n",
        "\n",
        "for individual_image in tqdm(Bacterial_spot):   \n",
        "    try:\n",
        "        single_image = cv2.imread(\"/content/drive/MyDrive/PlantVillage/plantvillage/Tomato___Bacterial_spot/\"+individual_image)\n",
        "        if(type(single_image)==type(None)):\n",
        "            pass\n",
        "        else:\n",
        "            single_image= cv2.cvtColor(single_image,cv2.COLOR_BGR2GRAY)\n",
        "            single_image= cv2.resize(single_image,(h , w)) \n",
        "            data.append(np.array(single_image)/255)\n",
        "            labels.append(0)\n",
        "    \n",
        "    except AttributeError:\n",
        "        print('')\n",
        "    except Exception as e:\n",
        "        print(\"Empty file\")\n",
        "\n",
        "for individual_image in tqdm(Early_blight): \n",
        "    try:\n",
        "        single_image = cv2.imread(\"/content/drive/MyDrive/PlantVillage/plantvillage/Tomato___Early_blight/\"+individual_image)\n",
        "        if(type(single_image)==type(None)):\n",
        "            pass\n",
        "        else:\n",
        "            single_image= cv2.cvtColor(single_image,cv2.COLOR_BGR2GRAY)\n",
        "            single_image= cv2.resize(single_image,(h , w)) \n",
        "            data.append(np.array(single_image)/255)\n",
        "            labels.append(1)\n",
        "    \n",
        "    except AttributeError:\n",
        "        print('')\n",
        "    except Exception as e:\n",
        "        print(\"Empty file\")\n",
        "\n",
        "for individual_image in tqdm(Late_blight):\n",
        "    try: \n",
        "        single_image = cv2.imread(\"/content/drive/MyDrive/PlantVillage/plantvillage/Tomato___Late_blight/\"+individual_image)\n",
        "        if(type(single_image)==type(None)):\n",
        "            pass\n",
        "        else:\n",
        "            single_image= cv2.cvtColor(single_image,cv2.COLOR_BGR2GRAY)\n",
        "            single_image= cv2.resize(single_image,(h , w))  \n",
        "            data.append(np.array(single_image)/255)\n",
        "            labels.append(2)\n",
        "    \n",
        "    except AttributeError:\n",
        "        print('')\n",
        "    except Exception as e:\n",
        "        print(\"Empty file\")\n",
        "\n",
        "for individual_image in tqdm(Leaf_mold): \n",
        "    try:\n",
        "        single_image = cv2.imread(\"/content/drive/MyDrive/PlantVillage/plantvillage/Tomato___Leaf_Mold/\"+individual_image)\n",
        "        if(type(single_image)==type(None)):\n",
        "            pass\n",
        "        else:\n",
        "            single_image= cv2.cvtColor(single_image,cv2.COLOR_BGR2GRAY)\n",
        "            single_image= cv2.resize(single_image,(h , w)) \n",
        "            data.append(np.array(single_image)/255)\n",
        "            labels.append(3)\n",
        "    \n",
        "    except AttributeError:\n",
        "        print('')\n",
        "    except Exception as e:\n",
        "        print(\"Empty file\")\n",
        "\n",
        "for individual_image in tqdm(Septoria_leaf_spot):\n",
        "    try:\n",
        "        single_image = cv2.imread(\"/content/drive/MyDrive/PlantVillage/plantvillage/Tomato___Septoria_leaf_spot/\"+individual_image)\n",
        "        if(type(single_image)==type(None)):\n",
        "            pass\n",
        "        else:\n",
        "            single_image= cv2.cvtColor(single_image,cv2.COLOR_BGR2GRAY)\n",
        "            single_image= cv2.resize(single_image,(h , w)) \n",
        "            data.append(np.array(single_image)/255)\n",
        "            labels.append(4)\n",
        "    \n",
        "    except AttributeError:\n",
        "        print('')\n",
        "    except Exception as e:\n",
        "        print(\"Empty file\")\n",
        "\n",
        "for individual_image in tqdm(Spider_mites):\n",
        "    try:\n",
        "        single_image = cv2.imread(\"/content/drive/MyDrive/PlantVillage/plantvillage/Tomato___Spider_mites Two-spotted_spider_mite/\"+individual_image)\n",
        "        if(type(single_image)==type(None)):\n",
        "            pass\n",
        "        else:\n",
        "            single_image= cv2.cvtColor(single_image,cv2.COLOR_BGR2GRAY)\n",
        "            single_image= cv2.resize(single_image,(h , w))  \n",
        "            data.append(np.array(single_image)/255)\n",
        "            labels.append(5)\n",
        "    \n",
        "    except AttributeError:\n",
        "        print('')\n",
        "    except Exception as e:\n",
        "        print(\"Empty file\")\n",
        "\n",
        "for individual_image in tqdm(Target_spot):\n",
        "    try:\n",
        "        single_image = cv2.imread(\"/content/drive/MyDrive/PlantVillage/plantvillage/Tomato___Target_Spot/\"+individual_image)\n",
        "        if(type(single_image)==type(None)):\n",
        "            pass\n",
        "        else:\n",
        "            single_image= cv2.cvtColor(single_image,cv2.COLOR_BGR2GRAY)\n",
        "            single_image= cv2.resize(single_image,(h , w)) \n",
        "            data.append(np.array(single_image)/255)\n",
        "            labels.append(6)\n",
        "    \n",
        "    except AttributeError:\n",
        "        print('')\n",
        "    except Exception as e:\n",
        "        print(\"Empty file\")\n",
        "\n",
        "for individual_image in tqdm(Yellow_leaf_curl_virus):\n",
        "    try:\n",
        "        single_image = cv2.imread(\"/content/drive/MyDrive/PlantVillage/plantvillage/Tomato___Tomato_Yellow_Leaf_Curl_Virus/\"+individual_image)\n",
        "        if(type(single_image)==type(None)):\n",
        "            pass\n",
        "        else:\n",
        "            single_image= cv2.cvtColor(single_image,cv2.COLOR_BGR2GRAY)\n",
        "            single_image= cv2.resize(single_image,(h , w))  \n",
        "            data.append(np.array(single_image)/255)\n",
        "            labels.append(7)\n",
        "    \n",
        "    except AttributeError:\n",
        "        print('')\n",
        "    except Exception as e:\n",
        "        print(\"Empty file\")\n",
        "\n",
        "for individual_image in tqdm(Mosaic_virus):\n",
        "    try:\n",
        "        single_image = cv2.imread(\"/content/drive/MyDrive/PlantVillage/plantvillage/Tomato___Tomato_mosaic_virus/\"+individual_image)\n",
        "        if(type(single_image)==type(None)):\n",
        "            pass\n",
        "        else:\n",
        "            single_image= cv2.cvtColor(single_image,cv2.COLOR_BGR2GRAY)\n",
        "            single_image= cv2.resize(single_image,(h , w))  \n",
        "            data.append(np.array(single_image)/255)\n",
        "            labels.append(8)\n",
        "    \n",
        "    except AttributeError:\n",
        "        print('')\n",
        "    except Exception as e:\n",
        "        print(\"Empty file\")\n",
        "\n",
        "for individual_image in tqdm(healthy):\n",
        "    try:\n",
        "        single_image = cv2.imread(\"/content/drive/MyDrive/PlantVillage/plantvillage/Tomato___healthy/\"+individual_image)\n",
        "        if(type(single_image)==type(None)):\n",
        "            pass\n",
        "        else:\n",
        "            single_image= cv2.cvtColor(single_image,cv2.COLOR_BGR2GRAY)\n",
        "            single_image= cv2.resize(single_image,(h , w)) \n",
        "            data.append(np.array(single_image)/255)\n",
        "            labels.append(9)\n",
        "\n",
        "    except AttributeError:\n",
        "        print('')\n",
        "    except Exception as e:\n",
        "        print(\"Empty file\")\n",
        "\n",
        "\n",
        "data = np.asarray(data)\n",
        "labels = np.asarray(labels)\n",
        "X_train = data.astype(np.float32)\n",
        "y_train = labels.astype(np.int32)\n",
        "\n"
      ]
    },
    {
      "cell_type": "code",
      "execution_count": null,
      "metadata": {
        "id": "1p24N9GULjpP"
      },
      "outputs": [],
      "source": [
        "# We then save the class and labels as numpy files on disk.\n",
        "\n",
        "np.save('Cells_gray_norm_2' , X_train)\n",
        "np.save('Labels_gray_norm_2' , y_train)"
      ]
    },
    {
      "cell_type": "code",
      "execution_count": null,
      "metadata": {
        "colab": {
          "base_uri": "https://localhost:8080/"
        },
        "id": "3sbxEor4rfb4",
        "outputId": "d9a14a95-1862-4ed6-9832-8a9d26e91540"
      },
      "outputs": [
        {
          "name": "stdout",
          "output_type": "stream",
          "text": [
            "Cells : (14527, 128, 128) | labels : (14527,)\n"
          ]
        }
      ],
      "source": [
        "print('Cells : {} | labels : {}'.format(X_train.shape , y_train.shape))   # Checking the shape of data and labels."
      ]
    },
    {
      "cell_type": "code",
      "execution_count": null,
      "metadata": {
        "id": "uCQOXAU4b3bu"
      },
      "outputs": [],
      "source": []
    }
  ],
  "metadata": {
    "colab": {
      "collapsed_sections": [],
      "name": "PlantVillage_preprocessTrainData.ipynb",
      "provenance": []
    },
    "kernelspec": {
      "display_name": "Python 3",
      "name": "python3"
    },
    "language_info": {
      "name": "python"
    }
  },
  "nbformat": 4,
  "nbformat_minor": 0
}
