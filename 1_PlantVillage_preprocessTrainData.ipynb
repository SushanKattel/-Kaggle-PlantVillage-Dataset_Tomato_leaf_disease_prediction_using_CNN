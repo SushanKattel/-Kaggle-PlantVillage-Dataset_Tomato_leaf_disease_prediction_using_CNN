{
  "nbformat": 4,
  "nbformat_minor": 0,
  "metadata": {
    "colab": {
      "name": "PlantVillage_preprocessTrainData.ipynb",
      "provenance": [],
      "collapsed_sections": []
    },
    "kernelspec": {
      "name": "python3",
      "display_name": "Python 3"
    },
    "language_info": {
      "name": "python"
    }
  },
  "cells": [
    {
      "cell_type": "code",
      "execution_count": 7,
      "metadata": {
        "id": "Kwl0XKJOvA0Y",
        "colab": {
          "base_uri": "https://localhost:8080/"
        },
        "outputId": "49dfe272-e6ee-4085-83c1-5f02f0afb4e8"
      },
      "outputs": [
        {
          "output_type": "stream",
          "name": "stdout",
          "text": [
            "/content/drive/MyDrive/PlantVillage\n"
          ]
        }
      ],
      "source": [
        "cd /content/drive/MyDrive/PlantVillage"
      ]
    },
    {
      "cell_type": "code",
      "source": [
        "# Importing required libraries. \n",
        "import numpy as np                # For linear alzebra. \n",
        "import cv2                        # For interacting (loading and resizing) images.     \n",
        "import os                         # For using opereting system modules, like changing directories.\n",
        "from tqdm import tqdm             # tqdm is for showing animation progress bar while processing."
      ],
      "metadata": {
        "id": "6xCKpJgIvd14"
      },
      "execution_count": 8,
      "outputs": []
    },
    {
      "cell_type": "markdown",
      "source": [
        "\n",
        "Creating a list of all available filenames (imagenames) inside folder of respective class\n",
        "like: A folder aaa has 5 images inside it, with names: a.jpg, b.jpg, c.jpg, d.jpg and e.jpg.\n",
        "This will create a list as: abc = [a.jpg, b.jpg, c.jpg, d.jpg, e.jpg]\n",
        "\n",
        "listdir will give the list of all the dirctories present in the path. It's Like using 'ls' command in command shell.\n",
        "\n",
        "first, we are creating name of classes from the name of directories inside plantvillage folders, as they are the name of our class.\n",
        "then, we are changing every element of the list as variable names, which holds the list of all images present in particular class.\n"
      ],
      "metadata": {
        "id": "tl5yBiGIT8lJ"
      }
    },
    {
      "cell_type": "code",
      "source": [
        "classess = os.listdir('/content/drive/MyDrive/PlantVillage/plantvillage')\n",
        "print(classess)                                                             # Lets see the name of our classes\n",
        "\n",
        "for every in tqdm(classess):\n",
        "    every_one = '/content/drive/MyDrive/PlantVillage/plantvillage/'+every\n",
        "    globals()[every]=os.listdir(every_one)\n",
        "    \n",
        "print(Tomato___Tomato_mosaic_virus[3:9])                                    # This is to see what we did !"
      ],
      "metadata": {
        "colab": {
          "base_uri": "https://localhost:8080/"
        },
        "id": "Tl8xf2feOWg5",
        "outputId": "643ec068-9ebf-4726-f2d3-a7e63c7d87be"
      },
      "execution_count": 9,
      "outputs": [
        {
          "output_type": "stream",
          "name": "stdout",
          "text": [
            "['Tomato___Bacterial_spot', 'Tomato___Early_blight', 'Tomato___Late_blight', 'Tomato___Leaf_Mold', 'Tomato___Septoria_leaf_spot', 'Tomato___Spider_mites Two-spotted_spider_mite', 'Tomato___Target_Spot', 'Tomato___Tomato_Yellow_Leaf_Curl_Virus', 'Tomato___Tomato_mosaic_virus', 'Tomato___healthy']\n"
          ]
        },
        {
          "output_type": "stream",
          "name": "stderr",
          "text": [
            "100%|██████████| 10/10 [00:00<00:00, 24.16it/s]"
          ]
        },
        {
          "output_type": "stream",
          "name": "stdout",
          "text": [
            "['3890da39-cc56-47ae-bc49-547565b69dc0___PSU_CG 2248.JPG', '69726f1b-4d1c-4647-aef2-090e57246501___PSU_CG 2131.JPG', '00c07a77-15e6-4815-92d4-8d1e1afb7f3c___PSU_CG 2052.JPG', '79894594-feb4-46ca-830c-5f1cf5b11063___PSU_CG 2063.JPG', '33f5422e-7889-4ab4-ab53-93507cc83f78___PSU_CG 2261.JPG', 'c56876f0-d18b-4a90-86d1-7f90e8e15fac___PSU_CG 2240.JPG']\n"
          ]
        },
        {
          "output_type": "stream",
          "name": "stderr",
          "text": [
            "\n"
          ]
        }
      ]
    },
    {
      "cell_type": "markdown",
      "source": [
        "\n",
        "The first for loop:\n",
        "Creating a list of all available filenames (imagenames) inside folder of respective class\n",
        "like: A folder aaa has 5 images inside it, with names: a.jpg, b.jpg, c.jpg, d.jpg and e.jpg.\n",
        "This will create a list as: abc = [a.jpg, b.jpg, c.jpg, d.jpg, e.jpg]\n",
        "\n",
        "listdir will gve the list of all the dirctories present in the path. It's Like using 'ls' command in command shell.\n",
        "\n",
        "The Second for loop below iterate through all the list values, from a.jpg to e.jpg as on above example which is defined for every list created on above cell.\n",
        "If condition to check type is used because, sometimes, the folder may contain files other then specified. For example:\n",
        "Here we are checking for all jpg images but if there is any file with png or pdf (due to misplace,ent or other issues),\n",
        "there comes error so, we simply skip them.\n",
        "For every images, we convert them to greyscale, resize them to a fixed size, create an numpy array list and normalize the pixel values.\n",
        "The pixel values are ranging from 0 to 255. So, we divide it by 255 s that all values will be between 0 and 1.\n"
      ],
      "metadata": {
        "id": "-DHVyw2p-DLa"
      }
    },
    {
      "cell_type": "code",
      "source": [
        "def preprocess_data(classess, base_dirr):\n",
        "\n",
        "    i = 0\n",
        "\n",
        "    for every_class in classess:\n",
        "        abc = os.path.join(base_dirr, every_class)\n",
        "        every_class = os.listdir(abc)\n",
        "        print(\"data label: \"+ str(i))\n",
        "        \n",
        "        for individual_image in tqdm(every_class):\n",
        "            try:\n",
        "                imgpath = abc+\"/\"+individual_image\n",
        "                single_image = cv2.imread(imgpath)\n",
        "                if(type(single_image)==type(None)):\n",
        "                    pass\n",
        "                    \n",
        "                else:\n",
        "                    single_image= cv2.cvtColor(single_image,cv2.COLOR_BGR2GRAY)\n",
        "                    single_image= cv2.resize(single_image,(h , w)) \n",
        "                    data.append(np.array(single_image)/255)\n",
        "                    labels.append(i)\n",
        "            \n",
        "            except AttributeError:\n",
        "                print('')\n",
        "            except Exception as e:\n",
        "                print(\"Empty file\")\n",
        "\n",
        "        i = i+1\n",
        "        print(\"Label Changed\")\n"
      ],
      "metadata": {
        "id": "QIL_RbmtJXh4"
      },
      "execution_count": 33,
      "outputs": []
    },
    {
      "cell_type": "markdown",
      "source": [
        "\n",
        "We append the image class: same label for same class, ranging from 0 to 9 for 10 different classes here we are using.\n",
        "and also append image datas, to the empty list we have created.\n",
        "\n",
        "After completing this for all class, we then change the data and labels to numpy array, of type float32 for datas and int32 for labels.\n",
        "Then rename class as X_train and labels as y_train for easy understanding below, on training phase.\n"
      ],
      "metadata": {
        "id": "4B5YgW_J998y"
      }
    },
    {
      "cell_type": "code",
      "source": [
        "\n",
        "\n",
        "h = 128         # Defining a integer variable for height of image after resizing.\n",
        "w = 128         # Defining a integer variable for width of image after resizing.\n",
        "data = []       # Defing empty array to store values of data: After transforming and normalizing images to numpy array.\n",
        "labels = []     # Defining empty aray to store corresponding labels of datas.\n",
        "\n",
        "base_dirr = \"/content/drive/MyDrive/PlantVillage/plantvillage\"\n",
        "\n",
        "preprocess_data(classess, base_dirr)\n",
        "\n",
        "data = np.asarray(data)\n",
        "labels = np.asarray(labels)\n",
        "X_train = data.astype(np.float32)\n",
        "y_train = labels.astype(np.int32)\n"
      ],
      "metadata": {
        "colab": {
          "base_uri": "https://localhost:8080/"
        },
        "id": "3dgul0sdVxLZ",
        "outputId": "3a0d9783-23c4-418e-ca7e-ffb5628bc9fa"
      },
      "execution_count": 34,
      "outputs": [
        {
          "output_type": "stream",
          "name": "stdout",
          "text": [
            "data label: 0\n"
          ]
        },
        {
          "output_type": "stream",
          "name": "stderr",
          "text": [
            "100%|██████████| 1700/1700 [00:08<00:00, 207.93it/s]\n"
          ]
        },
        {
          "output_type": "stream",
          "name": "stdout",
          "text": [
            "Label Changed\n",
            "data label: 1\n"
          ]
        },
        {
          "output_type": "stream",
          "name": "stderr",
          "text": [
            "100%|██████████| 800/800 [00:03<00:00, 210.21it/s]\n"
          ]
        },
        {
          "output_type": "stream",
          "name": "stdout",
          "text": [
            "Label Changed\n",
            "data label: 2\n"
          ]
        },
        {
          "output_type": "stream",
          "name": "stderr",
          "text": [
            "100%|██████████| 1527/1527 [00:07<00:00, 209.77it/s]\n"
          ]
        },
        {
          "output_type": "stream",
          "name": "stdout",
          "text": [
            "Label Changed\n",
            "data label: 3\n"
          ]
        },
        {
          "output_type": "stream",
          "name": "stderr",
          "text": [
            "100%|██████████| 761/761 [00:03<00:00, 211.49it/s]\n"
          ]
        },
        {
          "output_type": "stream",
          "name": "stdout",
          "text": [
            "Label Changed\n",
            "data label: 4\n"
          ]
        },
        {
          "output_type": "stream",
          "name": "stderr",
          "text": [
            "100%|██████████| 1417/1417 [00:06<00:00, 202.59it/s]\n"
          ]
        },
        {
          "output_type": "stream",
          "name": "stdout",
          "text": [
            "Label Changed\n",
            "data label: 5\n"
          ]
        },
        {
          "output_type": "stream",
          "name": "stderr",
          "text": [
            "100%|██████████| 1341/1341 [00:06<00:00, 202.38it/s]\n"
          ]
        },
        {
          "output_type": "stream",
          "name": "stdout",
          "text": [
            "Label Changed\n",
            "data label: 6\n"
          ]
        },
        {
          "output_type": "stream",
          "name": "stderr",
          "text": [
            "100%|██████████| 1123/1123 [00:05<00:00, 197.42it/s]\n"
          ]
        },
        {
          "output_type": "stream",
          "name": "stdout",
          "text": [
            "Label Changed\n",
            "data label: 7\n"
          ]
        },
        {
          "output_type": "stream",
          "name": "stderr",
          "text": [
            "100%|██████████| 4286/4286 [00:23<00:00, 183.80it/s]\n"
          ]
        },
        {
          "output_type": "stream",
          "name": "stdout",
          "text": [
            "Label Changed\n",
            "data label: 8\n"
          ]
        },
        {
          "output_type": "stream",
          "name": "stderr",
          "text": [
            "100%|██████████| 299/299 [00:01<00:00, 174.94it/s]\n"
          ]
        },
        {
          "output_type": "stream",
          "name": "stdout",
          "text": [
            "Label Changed\n",
            "data label: 9\n"
          ]
        },
        {
          "output_type": "stream",
          "name": "stderr",
          "text": [
            "100%|██████████| 1273/1273 [00:07<00:00, 178.84it/s]\n"
          ]
        },
        {
          "output_type": "stream",
          "name": "stdout",
          "text": [
            "Label Changed\n"
          ]
        }
      ]
    },
    {
      "cell_type": "code",
      "source": [
        "# We then save the class and labels as numpy files on disk.\n",
        "\n",
        "np.save('Cells_gray_norm1' , X_train)\n",
        "np.save('Labels_gray_norm1' , y_train)"
      ],
      "metadata": {
        "id": "1p24N9GULjpP"
      },
      "execution_count": null,
      "outputs": []
    },
    {
      "cell_type": "code",
      "source": [
        "print('Cells : {} | labels : {}'.format(X_train.shape , y_train.shape))   # Checking the shape of data and labels."
      ],
      "metadata": {
        "colab": {
          "base_uri": "https://localhost:8080/"
        },
        "id": "3sbxEor4rfb4",
        "outputId": "d9a14a95-1862-4ed6-9832-8a9d26e91540"
      },
      "execution_count": null,
      "outputs": [
        {
          "output_type": "stream",
          "name": "stdout",
          "text": [
            "Cells : (14527, 128, 128) | labels : (14527,)\n"
          ]
        }
      ]
    },
    {
      "cell_type": "code",
      "source": [
        ""
      ],
      "metadata": {
        "id": "uCQOXAU4b3bu"
      },
      "execution_count": null,
      "outputs": []
    }
  ]
}