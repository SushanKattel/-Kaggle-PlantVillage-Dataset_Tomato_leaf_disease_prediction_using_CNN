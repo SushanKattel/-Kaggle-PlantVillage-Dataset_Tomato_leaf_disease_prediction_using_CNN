{
  "cells": [
    {
      "cell_type": "code",
      "execution_count": 1,
      "metadata": {
        "colab": {
          "base_uri": "https://localhost:8080/"
        },
        "id": "mqcNRC5jGG16",
        "outputId": "7b5e4172-1449-4940-86bd-79f663925750"
      },
      "outputs": [
        {
          "name": "stdout",
          "output_type": "stream",
          "text": [
            "/content/drive/MyDrive/PlantVillage\n"
          ]
        }
      ],
      "source": [
        "cd /content/drive/MyDrive/PlantVillage"
      ]
    },
    {
      "cell_type": "code",
      "execution_count": 2,
      "metadata": {
        "id": "b1E0LUB5GIvx"
      },
      "outputs": [],
      "source": [
        "import numpy as np \n",
        "import cv2\n",
        "import os\n",
        "from tqdm import tqdm\n",
        "from tensorflow.keras import datasets, layers, models"
      ]
    },
    {
      "cell_type": "code",
      "execution_count": 3,
      "metadata": {
        "id": "igApvbkRGPT9"
      },
      "outputs": [],
      "source": [
        "# Loading files we saved on previous notebook, after preprocessing.\n",
        "X_train = np.load(\"/content/drive/MyDrive/PlantVillage/Cells_gray_norm1.npy\")\n",
        "y_train = np.load(\"/content/drive/MyDrive/PlantVillage/Labels_gray_norm1.npy\")"
      ]
    },
    {
      "cell_type": "code",
      "execution_count": 5,
      "metadata": {
        "colab": {
          "base_uri": "https://localhost:8080/"
        },
        "id": "wNjOHNiQGceh",
        "outputId": "9af38968-bad0-4cbb-df97-b7f17c3a911e"
      },
      "outputs": [
        {
          "name": "stdout",
          "output_type": "stream",
          "text": [
            "Cells : (14527, 128, 128) | labels : (14527,)\n"
          ]
        }
      ],
      "source": [
        "print('Cells : {} | labels : {}'.format(X_train.shape , y_train.shape))"
      ]
    },
    {
      "cell_type": "code",
      "execution_count": 6,
      "metadata": {
        "id": "g6kLZS4xGtp2"
      },
      "outputs": [],
      "source": [
        "# Shuffling the training datas !\n",
        "n = np.arange(X_train.shape[0]) # See above: the index 0 of shape list gives total number of datas present.\n",
        "np.random.shuffle(n)\n",
        "X_train =X_train[n]\n",
        "y_train = y_train[n]"
      ]
    },
    {
      "cell_type": "code",
      "execution_count": 8,
      "metadata": {
        "id": "Hk-UApdTHIqE"
      },
      "outputs": [],
      "source": [
        "def create_model():\n",
        "    '''\n",
        "    Define a CNN architecture where input to the model must be 128 * 128 pixel grayscale image.\n",
        "    \n",
        "    Returns:\n",
        "    -------------\n",
        "    model: A fully-connected output layer with 10 output values\n",
        "    '''\n",
        "\n",
        "    model = models.Sequential()\n",
        "    model.add(layers.Conv2D(64, (3, 3), activation='relu', input_shape=(128, 128, 1)))\n",
        "    model.add(layers.MaxPooling2D((2, 2)))\n",
        "\n",
        "    model.add(layers.Conv2D(64, (3, 3), activation='relu'))   \n",
        "    model.add(layers.MaxPooling2D((2, 2)))\n",
        "    model.add(layers.Dropout(0.1))   # Dropout to prevent overfitting\n",
        "    \n",
        "    model.add(layers.Conv2D(64, (3, 3), activation='relu'))\n",
        "    model.add(layers.MaxPooling2D((2, 2)))\n",
        "    model.add(layers.Dropout(0.2))\n",
        "\n",
        "    model.add(layers.Conv2D(128, (3, 3), activation='relu'))\n",
        "    model.add(layers.MaxPooling2D((2, 2)))\n",
        "    model.add(layers.Dropout(0.3))\n",
        "\n",
        "    model.add(layers.Flatten())\n",
        "\n",
        "    model.add(layers.Dense(64, activation='relu'))\n",
        "    model.add(layers.Dense(10, activation='softmax'))\n",
        "    return model"
      ]
    },
    {
      "cell_type": "code",
      "execution_count": 9,
      "metadata": {
        "id": "-pTUzkdpH5of"
      },
      "outputs": [],
      "source": [
        "def compile_model(model, optimizer, loss, metrics):\n",
        "    model.compile(optimizer=optimizer, loss=loss, metrics=metrics)"
      ]
    },
    {
      "cell_type": "code",
      "execution_count": null,
      "metadata": {},
      "outputs": [],
      "source": [
        "# Here, we define epoch, batch size and validation split.\n",
        "def train_model(model, X_train, y_train):\n",
        "    return model.fit(X_train, y_train, epochs=33, batch_size=100, verbose=1, validation_split=0.2) "
      ]
    },
    {
      "cell_type": "code",
      "execution_count": null,
      "metadata": {},
      "outputs": [],
      "source": [
        "def save_model(model, fileName):\n",
        "    model.save(fileName + '.h5')"
      ]
    },
    {
      "cell_type": "code",
      "execution_count": 10,
      "metadata": {
        "id": "x4Ff2OoQIKuK"
      },
      "outputs": [],
      "source": [
        "# Create the model architecture\n",
        "my_model = create_model()"
      ]
    },
    {
      "cell_type": "code",
      "execution_count": 11,
      "metadata": {
        "id": "hqGVEokhIO-Q"
      },
      "outputs": [],
      "source": [
        "compile_model(my_model, optimizer = 'adam', loss = 'sparse_categorical_crossentropy', metrics = ['accuracy'])"
      ]
    },
    {
      "cell_type": "code",
      "execution_count": 12,
      "metadata": {
        "colab": {
          "base_uri": "https://localhost:8080/"
        },
        "id": "e3nZD2SiITi7",
        "outputId": "4b7fcb26-72ad-4b11-a985-f6f6d5458634"
      },
      "outputs": [
        {
          "name": "stdout",
          "output_type": "stream",
          "text": [
            "Epoch 1/33\n",
            "117/117 [==============================] - 495s 4s/step - loss: 1.7895 - accuracy: 0.3900 - val_loss: 1.2861 - val_accuracy: 0.5678\n",
            "Epoch 2/33\n",
            "117/117 [==============================] - 485s 4s/step - loss: 1.1691 - accuracy: 0.6008 - val_loss: 1.0048 - val_accuracy: 0.6672\n",
            "Epoch 3/33\n",
            "117/117 [==============================] - 485s 4s/step - loss: 0.9624 - accuracy: 0.6693 - val_loss: 0.8934 - val_accuracy: 0.6893\n",
            "Epoch 4/33\n",
            "117/117 [==============================] - 486s 4s/step - loss: 0.8563 - accuracy: 0.7064 - val_loss: 0.8464 - val_accuracy: 0.7130\n",
            "Epoch 5/33\n",
            "117/117 [==============================] - 486s 4s/step - loss: 0.7390 - accuracy: 0.7499 - val_loss: 0.8228 - val_accuracy: 0.7240\n",
            "Epoch 6/33\n",
            "117/117 [==============================] - 484s 4s/step - loss: 0.6516 - accuracy: 0.7751 - val_loss: 0.8773 - val_accuracy: 0.7085\n",
            "Epoch 7/33\n",
            "117/117 [==============================] - 483s 4s/step - loss: 0.6090 - accuracy: 0.7875 - val_loss: 0.6306 - val_accuracy: 0.7842\n",
            "Epoch 8/33\n",
            "117/117 [==============================] - 472s 4s/step - loss: 0.5643 - accuracy: 0.8039 - val_loss: 0.6499 - val_accuracy: 0.7805\n",
            "Epoch 9/33\n",
            "117/117 [==============================] - 468s 4s/step - loss: 0.4868 - accuracy: 0.8283 - val_loss: 0.5825 - val_accuracy: 0.7939\n",
            "Epoch 10/33\n",
            "117/117 [==============================] - 471s 4s/step - loss: 0.4704 - accuracy: 0.8370 - val_loss: 0.5097 - val_accuracy: 0.8276\n",
            "Epoch 11/33\n",
            "117/117 [==============================] - 475s 4s/step - loss: 0.4037 - accuracy: 0.8619 - val_loss: 0.6984 - val_accuracy: 0.7646\n",
            "Epoch 12/33\n",
            "117/117 [==============================] - 473s 4s/step - loss: 0.3907 - accuracy: 0.8627 - val_loss: 0.5044 - val_accuracy: 0.8317\n",
            "Epoch 13/33\n",
            "117/117 [==============================] - 473s 4s/step - loss: 0.3610 - accuracy: 0.8759 - val_loss: 0.4796 - val_accuracy: 0.8355\n",
            "Epoch 14/33\n",
            "117/117 [==============================] - 484s 4s/step - loss: 0.3312 - accuracy: 0.8865 - val_loss: 0.5473 - val_accuracy: 0.8114\n",
            "Epoch 15/33\n",
            "117/117 [==============================] - 484s 4s/step - loss: 0.3514 - accuracy: 0.8788 - val_loss: 0.5095 - val_accuracy: 0.8310\n",
            "Epoch 16/33\n",
            "117/117 [==============================] - 483s 4s/step - loss: 0.2845 - accuracy: 0.9000 - val_loss: 0.5385 - val_accuracy: 0.8145\n",
            "Epoch 17/33\n",
            "117/117 [==============================] - 482s 4s/step - loss: 0.3083 - accuracy: 0.8893 - val_loss: 0.5393 - val_accuracy: 0.8142\n",
            "Epoch 18/33\n",
            "117/117 [==============================] - 486s 4s/step - loss: 0.2584 - accuracy: 0.9078 - val_loss: 0.4484 - val_accuracy: 0.8489\n",
            "Epoch 19/33\n",
            "117/117 [==============================] - 485s 4s/step - loss: 0.2454 - accuracy: 0.9137 - val_loss: 0.4632 - val_accuracy: 0.8517\n",
            "Epoch 20/33\n",
            "117/117 [==============================] - 481s 4s/step - loss: 0.2321 - accuracy: 0.9184 - val_loss: 0.4792 - val_accuracy: 0.8434\n",
            "Epoch 21/33\n",
            "117/117 [==============================] - 481s 4s/step - loss: 0.2062 - accuracy: 0.9282 - val_loss: 0.4978 - val_accuracy: 0.8362\n",
            "Epoch 22/33\n",
            "117/117 [==============================] - 481s 4s/step - loss: 0.1918 - accuracy: 0.9306 - val_loss: 0.4794 - val_accuracy: 0.8555\n",
            "Epoch 23/33\n",
            "117/117 [==============================] - 481s 4s/step - loss: 0.1713 - accuracy: 0.9392 - val_loss: 0.4284 - val_accuracy: 0.8637\n",
            "Epoch 24/33\n",
            "117/117 [==============================] - 480s 4s/step - loss: 0.1863 - accuracy: 0.9348 - val_loss: 0.4598 - val_accuracy: 0.8613\n",
            "Epoch 25/33\n",
            "117/117 [==============================] - 481s 4s/step - loss: 0.1760 - accuracy: 0.9353 - val_loss: 0.5108 - val_accuracy: 0.8482\n",
            "Epoch 26/33\n",
            "117/117 [==============================] - 480s 4s/step - loss: 0.1483 - accuracy: 0.9485 - val_loss: 0.5293 - val_accuracy: 0.8479\n",
            "Epoch 27/33\n",
            "117/117 [==============================] - 481s 4s/step - loss: 0.1614 - accuracy: 0.9427 - val_loss: 0.5359 - val_accuracy: 0.8520\n",
            "Epoch 28/33\n",
            "117/117 [==============================] - 481s 4s/step - loss: 0.1284 - accuracy: 0.9560 - val_loss: 0.5270 - val_accuracy: 0.8575\n",
            "Epoch 29/33\n",
            "117/117 [==============================] - 481s 4s/step - loss: 0.1507 - accuracy: 0.9454 - val_loss: 0.4560 - val_accuracy: 0.8648\n",
            "Epoch 30/33\n",
            "117/117 [==============================] - 482s 4s/step - loss: 0.1317 - accuracy: 0.9544 - val_loss: 0.4948 - val_accuracy: 0.8617\n",
            "Epoch 31/33\n",
            "117/117 [==============================] - 482s 4s/step - loss: 0.1501 - accuracy: 0.9460 - val_loss: 0.5882 - val_accuracy: 0.8458\n",
            "Epoch 32/33\n",
            "117/117 [==============================] - 481s 4s/step - loss: 0.1405 - accuracy: 0.9497 - val_loss: 0.4974 - val_accuracy: 0.8579\n",
            "Epoch 33/33\n",
            "117/117 [==============================] - 481s 4s/step - loss: 0.0955 - accuracy: 0.9672 - val_loss: 0.4891 - val_accuracy: 0.8720\n"
          ]
        }
      ],
      "source": [
        "# Train the model\n",
        "theTraining = train_model(my_model, X_train, y_train)"
      ]
    },
    {
      "cell_type": "code",
      "execution_count": 13,
      "metadata": {
        "id": "reKSQFT_IV_D"
      },
      "outputs": [],
      "source": [
        "# Save the model\n",
        "save_model(my_model, 'models/model_1')"
      ]
    }
  ],
  "metadata": {
    "colab": {
      "collapsed_sections": [],
      "name": "plantVillage_train.ipynb",
      "provenance": []
    },
    "kernelspec": {
      "display_name": "Python 3",
      "name": "python3"
    },
    "language_info": {
      "name": "python"
    }
  },
  "nbformat": 4,
  "nbformat_minor": 0
}
