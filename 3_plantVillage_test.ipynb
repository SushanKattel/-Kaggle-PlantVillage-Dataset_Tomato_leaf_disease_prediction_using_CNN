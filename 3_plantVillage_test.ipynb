{
  "cells": [
    {
      "cell_type": "code",
      "execution_count": null,
      "metadata": {
        "colab": {
          "base_uri": "https://localhost:8080/"
        },
        "id": "DU1eza67SlE0",
        "outputId": "bdcec298-b4a6-4718-c8e0-690c9325aa43"
      },
      "outputs": [
        {
          "name": "stdout",
          "output_type": "stream",
          "text": [
            "/content/drive/MyDrive/PlantVillage\n"
          ]
        }
      ],
      "source": [
        "cd /content/drive/MyDrive/PlantVillage"
      ]
    },
    {
      "cell_type": "code",
      "execution_count": null,
      "metadata": {
        "id": "pz8vkMzHSsp9"
      },
      "outputs": [],
      "source": [
        "import numpy as np\n",
        "import cv2\n",
        "import os\n",
        "from tqdm import tqdm\n",
        "from tensorflow.keras import models  #For loading and using our model to predict."
      ]
    },
    {
      "cell_type": "code",
      "execution_count": null,
      "metadata": {
        "id": "y7iGs1CnVUR8"
      },
      "outputs": [],
      "source": [
        "def load_model(fileName):\n",
        "    return models.load_model(fileName + '.h5')"
      ]
    },
    {
      "cell_type": "code",
      "execution_count": null,
      "metadata": {
        "id": "HlSw-4NxSuyr"
      },
      "outputs": [],
      "source": [
        "# These are the same steps we did on preprocessing the images before sending them to our training model.\n",
        "def preprocess_test_img(test_img_dir):\n",
        "    test_img = cv2.imread(test_img_dir)\n",
        "    gray_img = cv2.cvtColor(test_img,cv2.COLOR_BGR2GRAY)\n",
        "    resized_img = cv2.resize(gray_img,(128 , 128))\n",
        "    img_array = np.array(resized_img)/255\n",
        "    data = np.asarray(img_array)\n",
        "    to_predict = data.astype(np.float32)\n",
        "    to_predict_reshaped = np.reshape(to_predict, (1, 128, 128))   # This line is to reshape our data to the shape that model wants to be.\n",
        "    return to_predict_reshaped\n"
      ]
    },
    {
      "cell_type": "code",
      "execution_count": null,
      "metadata": {
        "id": "jJgI9Uz7VCJl"
      },
      "outputs": [],
      "source": [
        "# Load the model built in the previous step\n",
        "model = load_model('models/model')"
      ]
    },
    {
      "cell_type": "code",
      "execution_count": null,
      "metadata": {
        "id": "ZxwnNcYSVfGk"
      },
      "outputs": [],
      "source": [
        "# Get image\n",
        "base_dir = \"/content/drive/MyDrive/PlantVillage/plantvillage/\"\n",
        "imag_name = \"Tomato___Bacterial_spot/0ab54691-ba9f-4c1f-a69b-ec0501df4401___GCREC_Bact.Sp 3170.JPG\"\n",
        "img_dir = base_dir+imag_name\n",
        "input_image = preprocess_test_img(img_dir)\n",
        "prediction = model.predict(input_image)"
      ]
    },
    {
      "cell_type": "code",
      "execution_count": null,
      "metadata": {
        "colab": {
          "base_uri": "https://localhost:8080/"
        },
        "id": "wxmO1sviWvEP",
        "outputId": "2e147ddb-39b5-4c8c-c294-bf026c8f17cc"
      },
      "outputs": [
        {
          "name": "stdout",
          "output_type": "stream",
          "text": [
            "0\n"
          ]
        }
      ],
      "source": [
        "print(np.argmax(prediction))    # Gives the index of maximum value. Gives the class number with highest prediction value !!\n",
        "                                # See the first file(before training) for label value (index value) of different classes ! "
      ]
    },
    {
      "cell_type": "markdown",
      "metadata": {
        "id": "lWiNEG4aRpp4"
      },
      "source": [
        "Here, I am little lazy to write function so it gives name of class instead of these numbers. Yo can do it with switch case or if else statements. So, It's for you to do 😁."
      ]
    },
    {
      "cell_type": "markdown",
      "metadata": {
        "id": "agKZiANyR_AX"
      },
      "source": [
        "Also, The test images must be the one which is not provided on training phase. But, Here too I am too lazy to separate them before training and as an excuse, I believe on the metrices shown above for accuracy 😅.\n",
        "If you are doing this project, separate and place some images from each class before training so you could use them while testing 😅"
      ]
    },
    {
      "cell_type": "code",
      "execution_count": null,
      "metadata": {
        "id": "NsOT4pL7SzRi"
      },
      "outputs": [],
      "source": []
    }
  ],
  "metadata": {
    "colab": {
      "name": "plantVillage_test.ipynb",
      "provenance": []
    },
    "kernelspec": {
      "display_name": "Python 3",
      "name": "python3"
    },
    "language_info": {
      "name": "python"
    }
  },
  "nbformat": 4,
  "nbformat_minor": 0
}
